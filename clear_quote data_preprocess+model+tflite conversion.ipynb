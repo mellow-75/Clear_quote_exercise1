{
 "cells": [
  {
   "cell_type": "code",
   "execution_count": 6,
   "id": "574a4183",
   "metadata": {},
   "outputs": [],
   "source": [
    "import pandas as pd\n",
    "import numpy as np\n",
    "import cv2\n",
    "from matplotlib import pyplot as plt\n",
    "import imghdr\n",
    "import os\n",
    "import torch\n",
    "from torch.utils.data import Dataset\n",
    "from torchvision import transforms\n",
    "from torch.utils.data import Dataset, DataLoader\n",
    "from PIL import Image"
   ]
  },
  {
   "cell_type": "code",
   "execution_count": 2,
   "id": "35e94971",
   "metadata": {},
   "outputs": [],
   "source": [
    "data_dir='D:\\exercise1\\exercise_1'\n",
    "#df = pd.read_json(\"D:\\\\exercise1\\\\exercise_1\\\\5e9112c35026365e15eb871b\\\\via_region_data.json\")\n",
    "#df.head()\n",
    "#df.info\n",
    "#images=df.columns\n",
    "#df=df.transpose()\n",
    "#df.head()\n",
    "#regions=df['regions']\n",
    "#img_random=cv2.imread(\"D:\\\\exercise1\\\\exercise_1\\\\5e9112c35026365e15eb871b\\\\IMG_20200219_170547_1586530520210_blurred.jpeg\")"
   ]
  },
  {
   "cell_type": "code",
   "execution_count": 3,
   "id": "cce2cd3c",
   "metadata": {},
   "outputs": [
    {
     "data": {
      "text/plain": [
       "\"for i in range(48):\\n    print(i)\\n    for j in range(20):\\n        try:\\n            a=df[images[i]]['regions'][j]['region_attributes']['identity']\\n            print(a)\\n        \\n        except:\\n            break\""
      ]
     },
     "execution_count": 3,
     "metadata": {},
     "output_type": "execute_result"
    }
   ],
   "source": [
    "folders=os.listdir(data_dir)\n",
    "folders\n",
    "''' for i in range(len(regions[2])):\n",
    "    print(regions[2][i]['region_attributes']['identity']) '''\n",
    "\n",
    "#df['regions']\n",
    "#images\n",
    "\n",
    "'''for i in range(48):\n",
    "    print(i)\n",
    "    for j in range(20):\n",
    "        try:\n",
    "            a=df[images[i]]['regions'][j]['region_attributes']['identity']\n",
    "            print(a)\n",
    "        \n",
    "        except:\n",
    "            break'''"
   ]
  },
  {
   "cell_type": "code",
   "execution_count": 4,
   "id": "07852c10",
   "metadata": {},
   "outputs": [
    {
     "data": {
      "text/plain": [
       "'for img_class in os.listdir(data_dir):\\n    for image in os.listdir(os.path.join(data_dir,image_class)):\\n        image_path=os.path.join(data_dir,image_class,image)\\n        try:\\n            img=cv2.imread(image_path)\\n            tip=imghdr.what(image_path)\\n            \\n            if tip not in image_exts:\\n                print(\"image not in exts list {}\".format(image_path))\\n                os.remove(image_path)\\n                \\n        except Exception as e:\\n            print(\"issue with image {}\".format(image_path))'"
      ]
     },
     "execution_count": 4,
     "metadata": {},
     "output_type": "execute_result"
    }
   ],
   "source": [
    "\"\"\"for img_class in os.listdir(data_dir):\n",
    "    for image in os.listdir(os.path.join(data_dir,image_class)):\n",
    "        image_path=os.path.join(data_dir,image_class,image)\n",
    "        try:\n",
    "            img=cv2.imread(image_path)\n",
    "            tip=imghdr.what(image_path)\n",
    "            \n",
    "            if tip not in image_exts:\n",
    "                print(\"image not in exts list {}\".format(image_path))\n",
    "                os.remove(image_path)\n",
    "                \n",
    "        except Exception as e:\n",
    "            print(\"issue with image {}\".format(image_path))\"\"\""
   ]
  },
  {
   "cell_type": "code",
   "execution_count": 5,
   "id": "9eab2fd7",
   "metadata": {},
   "outputs": [],
   "source": [
    "ds = pd.DataFrame(columns=[\"directory_name\",\"image_name\",\"labels\"])\n",
    "for k in folders:\n",
    "    df = pd.read_json(f\"D:\\\\exercise1\\\\exercise_1\\\\{k}\\\\via_region_data.json\")\n",
    "    images = df.columns\n",
    "    size = len(images)\n",
    "    \n",
    "    for i in range(size):\n",
    "        s=\"\"\n",
    "        for j in range(20):\n",
    "            try:\n",
    "                a=df[images[i]]['regions'][j]['region_attributes']['identity']\n",
    "                #set_1.add(a)\n",
    "                s = s+a+\",\"\n",
    "            except:\n",
    "                break\n",
    "        ds.loc[len(ds.index)] = [k,images[i],s]"
   ]
  },
  {
   "cell_type": "code",
   "execution_count": 6,
   "id": "0235c021",
   "metadata": {},
   "outputs": [
    {
     "data": {
      "text/html": [
       "<div>\n",
       "<style scoped>\n",
       "    .dataframe tbody tr th:only-of-type {\n",
       "        vertical-align: middle;\n",
       "    }\n",
       "\n",
       "    .dataframe tbody tr th {\n",
       "        vertical-align: top;\n",
       "    }\n",
       "\n",
       "    .dataframe thead th {\n",
       "        text-align: right;\n",
       "    }\n",
       "</style>\n",
       "<table border=\"1\" class=\"dataframe\">\n",
       "  <thead>\n",
       "    <tr style=\"text-align: right;\">\n",
       "      <th></th>\n",
       "      <th>directory_name</th>\n",
       "      <th>image_name</th>\n",
       "      <th>labels</th>\n",
       "    </tr>\n",
       "  </thead>\n",
       "  <tbody>\n",
       "    <tr>\n",
       "      <th>0</th>\n",
       "      <td>5e9112c35026365e15eb871b</td>\n",
       "      <td>IMG_20200219_170506_1586530497634.jpeg</td>\n",
       "      <td>frontws,wiper,rightapillar,wiper,partial_bonne...</td>\n",
       "    </tr>\n",
       "    <tr>\n",
       "      <th>1</th>\n",
       "      <td>5e9112c35026365e15eb871b</td>\n",
       "      <td>IMG_20200219_170530_1586530511170_blurred.jpeg</td>\n",
       "      <td>frontws,leftorvm,wiper,leftapillar,wiper,parti...</td>\n",
       "    </tr>\n",
       "    <tr>\n",
       "      <th>2</th>\n",
       "      <td>5e9112c35026365e15eb871b</td>\n",
       "      <td>IMG_20200219_170547_1586530520210_blurred.jpeg</td>\n",
       "      <td>tailgate,lefttaillamp,logo,righttaillamp,nameb...</td>\n",
       "    </tr>\n",
       "    <tr>\n",
       "      <th>3</th>\n",
       "      <td>5e9112c35026365e15eb871b</td>\n",
       "      <td>IMG_20200219_170542_1586530514683_blurred.jpeg</td>\n",
       "      <td>lefttaillamp,leftqpanel,tailgate,leftreardoor,...</td>\n",
       "    </tr>\n",
       "    <tr>\n",
       "      <th>4</th>\n",
       "      <td>5e9112c35026365e15eb871b</td>\n",
       "      <td>IMG_20200219_170520_1586530505664.jpeg</td>\n",
       "      <td>leftheadlamp,towbarcover,partial_frontbumper,p...</td>\n",
       "    </tr>\n",
       "  </tbody>\n",
       "</table>\n",
       "</div>"
      ],
      "text/plain": [
       "             directory_name                                      image_name  \\\n",
       "0  5e9112c35026365e15eb871b          IMG_20200219_170506_1586530497634.jpeg   \n",
       "1  5e9112c35026365e15eb871b  IMG_20200219_170530_1586530511170_blurred.jpeg   \n",
       "2  5e9112c35026365e15eb871b  IMG_20200219_170547_1586530520210_blurred.jpeg   \n",
       "3  5e9112c35026365e15eb871b  IMG_20200219_170542_1586530514683_blurred.jpeg   \n",
       "4  5e9112c35026365e15eb871b          IMG_20200219_170520_1586530505664.jpeg   \n",
       "\n",
       "                                              labels  \n",
       "0  frontws,wiper,rightapillar,wiper,partial_bonne...  \n",
       "1  frontws,leftorvm,wiper,leftapillar,wiper,parti...  \n",
       "2  tailgate,lefttaillamp,logo,righttaillamp,nameb...  \n",
       "3  lefttaillamp,leftqpanel,tailgate,leftreardoor,...  \n",
       "4  leftheadlamp,towbarcover,partial_frontbumper,p...  "
      ]
     },
     "execution_count": 6,
     "metadata": {},
     "output_type": "execute_result"
    }
   ],
   "source": [
    "ds.head()"
   ]
  },
  {
   "cell_type": "code",
   "execution_count": 7,
   "id": "44723e35",
   "metadata": {},
   "outputs": [],
   "source": [
    "#ds['labels']\n",
    "set1 = set()\n",
    "for i in range(3974):\n",
    "    a = ds['labels'][i]\n",
    "    s = a.split(\",\")\n",
    "    for j in range(len(s)-1):\n",
    "        set1.add(s[j])\n",
    "#len(set1)"
   ]
  },
  {
   "cell_type": "code",
   "execution_count": 8,
   "id": "02dd627f",
   "metadata": {},
   "outputs": [
    {
     "data": {
      "text/plain": [
       "'ds1=pd.DataFrame(columns=lst)\\nds1.head()\\nds1[\"img_name\"]=\\'\\'\\nds1.head()\\nfor i in range(3974):\\n    regs=ds[\"labels\"][i].split(\",\")\\n    l=[]\\n    for j in range(len(lst)):\\n        try:\\n            if lst[j] in regs:\\n                l.append(1)\\n            else:\\n                l.append(0)\\n        except:\\n            break\\n    #print(l)\\n    l.append(ds[\\'image_name\\'][i])\\n    ds1.loc[len(ds1.index)] = l\\n    print(l)'"
      ]
     },
     "execution_count": 8,
     "metadata": {},
     "output_type": "execute_result"
    }
   ],
   "source": [
    "lst=list(set1)\n",
    "'''ds1=pd.DataFrame(columns=lst)\n",
    "ds1.head()\n",
    "ds1[\"img_name\"]=''\n",
    "ds1.head()\n",
    "for i in range(3974):\n",
    "    regs=ds[\"labels\"][i].split(\",\")\n",
    "    l=[]\n",
    "    for j in range(len(lst)):\n",
    "        try:\n",
    "            if lst[j] in regs:\n",
    "                l.append(1)\n",
    "            else:\n",
    "                l.append(0)\n",
    "        except:\n",
    "            break\n",
    "    #print(l)\n",
    "    l.append(ds['image_name'][i])\n",
    "    ds1.loc[len(ds1.index)] = l\n",
    "    print(l)'''\n",
    "\n",
    "#ds1.head()\n",
    "#lst\n",
    "#ds1.to_csv(\"clustering_data.csv\")\n",
    "#from sklearn.cluster import KMeans\n",
    "#km=KMeans(n_clusters=6,init='k-means++')\n",
    "#km\n",
    "#y_pred=km.fit_predict(ds1[lst])\n",
    "#ds1['cluster_label']=y_pred"
   ]
  },
  {
   "cell_type": "code",
   "execution_count": 9,
   "id": "2ac3a76d",
   "metadata": {
    "scrolled": true
   },
   "outputs": [
    {
     "data": {
      "text/html": [
       "<div>\n",
       "<style scoped>\n",
       "    .dataframe tbody tr th:only-of-type {\n",
       "        vertical-align: middle;\n",
       "    }\n",
       "\n",
       "    .dataframe tbody tr th {\n",
       "        vertical-align: top;\n",
       "    }\n",
       "\n",
       "    .dataframe thead th {\n",
       "        text-align: right;\n",
       "    }\n",
       "</style>\n",
       "<table border=\"1\" class=\"dataframe\">\n",
       "  <thead>\n",
       "    <tr style=\"text-align: right;\">\n",
       "      <th></th>\n",
       "      <th>front</th>\n",
       "      <th>front_right</th>\n",
       "      <th>front_left</th>\n",
       "      <th>rear</th>\n",
       "      <th>rear_left</th>\n",
       "      <th>rear_right</th>\n",
       "    </tr>\n",
       "  </thead>\n",
       "  <tbody>\n",
       "    <tr>\n",
       "      <th>0</th>\n",
       "      <td>frontbumpergrillemissing</td>\n",
       "      <td>rightfoglampassemblybroken</td>\n",
       "      <td>leftwatorn</td>\n",
       "      <td>rearws</td>\n",
       "      <td>fuelcap</td>\n",
       "      <td>rightreardoorcladding</td>\n",
       "    </tr>\n",
       "    <tr>\n",
       "      <th>1</th>\n",
       "      <td>lowerbumpergrille</td>\n",
       "      <td>rightfoglampmissing</td>\n",
       "      <td>leftwa</td>\n",
       "      <td>rearwsmissing</td>\n",
       "      <td>lefttaillamp</td>\n",
       "      <td>rightcabcorner</td>\n",
       "    </tr>\n",
       "    <tr>\n",
       "      <th>2</th>\n",
       "      <td>logo</td>\n",
       "      <td>rightroofside</td>\n",
       "      <td>leftfender</td>\n",
       "      <td>sensor</td>\n",
       "      <td>rightdpillar</td>\n",
       "      <td>righttaillampmissing</td>\n",
       "    </tr>\n",
       "    <tr>\n",
       "      <th>3</th>\n",
       "      <td>lowerbumpergrillebroken</td>\n",
       "      <td>rightwatorn</td>\n",
       "      <td>leftheadlamp</td>\n",
       "      <td>logo</td>\n",
       "      <td>leftreardoorcladdingmissing</td>\n",
       "      <td>rightreardoor</td>\n",
       "    </tr>\n",
       "    <tr>\n",
       "      <th>4</th>\n",
       "      <td>bumpertorn</td>\n",
       "      <td>rightorvmmissing</td>\n",
       "      <td>leftqpanel</td>\n",
       "      <td>partial_rearbumper</td>\n",
       "      <td>leftbootlampmissing</td>\n",
       "      <td>rightbootlamp</td>\n",
       "    </tr>\n",
       "  </tbody>\n",
       "</table>\n",
       "</div>"
      ],
      "text/plain": [
       "                      front                 front_right    front_left  \\\n",
       "0  frontbumpergrillemissing  rightfoglampassemblybroken    leftwatorn   \n",
       "1         lowerbumpergrille         rightfoglampmissing        leftwa   \n",
       "2                      logo               rightroofside    leftfender   \n",
       "3   lowerbumpergrillebroken                 rightwatorn  leftheadlamp   \n",
       "4                bumpertorn            rightorvmmissing    leftqpanel   \n",
       "\n",
       "                 rear                    rear_left             rear_right  \n",
       "0              rearws                      fuelcap  rightreardoorcladding  \n",
       "1       rearwsmissing                 lefttaillamp         rightcabcorner  \n",
       "2              sensor                 rightdpillar   righttaillampmissing  \n",
       "3                logo  leftreardoorcladdingmissing          rightreardoor  \n",
       "4  partial_rearbumper          leftbootlampmissing          rightbootlamp  "
      ]
     },
     "execution_count": 9,
     "metadata": {},
     "output_type": "execute_result"
    }
   ],
   "source": [
    "#list_df=pd.DataFrame(lst)\n",
    "#list_df.to_excel(\"clustering_df.xlsx\")\n",
    "list_df=pd.read_excel(\"C:\\\\Users\\\\Prakhar\\\\Desktop\\\\imp_df.xlsx\")\n",
    "list_df.drop(columns=['Unnamed: 0'],axis=1,inplace=True)\n",
    "list_df.head()\n",
    "\n",
    "\n",
    "\n",
    "\n"
   ]
  },
  {
   "cell_type": "code",
   "execution_count": 10,
   "id": "b448b820",
   "metadata": {},
   "outputs": [
    {
     "data": {
      "text/html": [
       "<div>\n",
       "<style scoped>\n",
       "    .dataframe tbody tr th:only-of-type {\n",
       "        vertical-align: middle;\n",
       "    }\n",
       "\n",
       "    .dataframe tbody tr th {\n",
       "        vertical-align: top;\n",
       "    }\n",
       "\n",
       "    .dataframe thead th {\n",
       "        text-align: right;\n",
       "    }\n",
       "</style>\n",
       "<table border=\"1\" class=\"dataframe\">\n",
       "  <thead>\n",
       "    <tr style=\"text-align: right;\">\n",
       "      <th></th>\n",
       "      <th>directory_name</th>\n",
       "      <th>image_name</th>\n",
       "      <th>labels</th>\n",
       "    </tr>\n",
       "  </thead>\n",
       "  <tbody>\n",
       "    <tr>\n",
       "      <th>0</th>\n",
       "      <td>5e9112c35026365e15eb871b</td>\n",
       "      <td>IMG_20200219_170506_1586530497634.jpeg</td>\n",
       "      <td>frontws,wiper,rightapillar,wiper,partial_bonne...</td>\n",
       "    </tr>\n",
       "    <tr>\n",
       "      <th>1</th>\n",
       "      <td>5e9112c35026365e15eb871b</td>\n",
       "      <td>IMG_20200219_170530_1586530511170_blurred.jpeg</td>\n",
       "      <td>frontws,leftorvm,wiper,leftapillar,wiper,parti...</td>\n",
       "    </tr>\n",
       "    <tr>\n",
       "      <th>2</th>\n",
       "      <td>5e9112c35026365e15eb871b</td>\n",
       "      <td>IMG_20200219_170547_1586530520210_blurred.jpeg</td>\n",
       "      <td>tailgate,lefttaillamp,logo,righttaillamp,nameb...</td>\n",
       "    </tr>\n",
       "    <tr>\n",
       "      <th>3</th>\n",
       "      <td>5e9112c35026365e15eb871b</td>\n",
       "      <td>IMG_20200219_170542_1586530514683_blurred.jpeg</td>\n",
       "      <td>lefttaillamp,leftqpanel,tailgate,leftreardoor,...</td>\n",
       "    </tr>\n",
       "    <tr>\n",
       "      <th>4</th>\n",
       "      <td>5e9112c35026365e15eb871b</td>\n",
       "      <td>IMG_20200219_170520_1586530505664.jpeg</td>\n",
       "      <td>leftheadlamp,towbarcover,partial_frontbumper,p...</td>\n",
       "    </tr>\n",
       "  </tbody>\n",
       "</table>\n",
       "</div>"
      ],
      "text/plain": [
       "             directory_name                                      image_name  \\\n",
       "0  5e9112c35026365e15eb871b          IMG_20200219_170506_1586530497634.jpeg   \n",
       "1  5e9112c35026365e15eb871b  IMG_20200219_170530_1586530511170_blurred.jpeg   \n",
       "2  5e9112c35026365e15eb871b  IMG_20200219_170547_1586530520210_blurred.jpeg   \n",
       "3  5e9112c35026365e15eb871b  IMG_20200219_170542_1586530514683_blurred.jpeg   \n",
       "4  5e9112c35026365e15eb871b          IMG_20200219_170520_1586530505664.jpeg   \n",
       "\n",
       "                                              labels  \n",
       "0  frontws,wiper,rightapillar,wiper,partial_bonne...  \n",
       "1  frontws,leftorvm,wiper,leftapillar,wiper,parti...  \n",
       "2  tailgate,lefttaillamp,logo,righttaillamp,nameb...  \n",
       "3  lefttaillamp,leftqpanel,tailgate,leftreardoor,...  \n",
       "4  leftheadlamp,towbarcover,partial_frontbumper,p...  "
      ]
     },
     "execution_count": 10,
     "metadata": {},
     "output_type": "execute_result"
    }
   ],
   "source": [
    "ds.head()"
   ]
  },
  {
   "cell_type": "code",
   "execution_count": 11,
   "id": "c8c04474",
   "metadata": {},
   "outputs": [],
   "source": [
    "front=(list_df['front'].dropna().values)\n",
    "front_right=(list_df['front_right'].dropna().values)\n",
    "front_left=np.array(list_df['front_left'].dropna().values)\n",
    "rear=np.array(list_df['rear'].dropna().values)\n",
    "rear_right=np.array(list_df['rear_right'].dropna().values)\n",
    "rear_left=np.array(list_df['rear_left'].dropna().values)"
   ]
  },
  {
   "cell_type": "code",
   "execution_count": 12,
   "id": "29f32508",
   "metadata": {},
   "outputs": [],
   "source": [
    "def converter(splitted_list):\n",
    "    f=0\n",
    "    fr=0\n",
    "    fl=0\n",
    "    r=0\n",
    "    rr=0\n",
    "    rl=0\n",
    "    nun=0\n",
    "    for i in splitted_list:\n",
    "        if i in front:\n",
    "            f+=1\n",
    "        elif i in front_right:\n",
    "            fr+=1\n",
    "        elif i in front_left:\n",
    "            fl+=1\n",
    "        elif i in rear:\n",
    "            r+=1\n",
    "        elif i in rear_left:\n",
    "            rl+=1\n",
    "        elif i in rear_right:\n",
    "            rr+=1\n",
    "        else:\n",
    "            continue\n",
    "        \n",
    "        \n",
    "    dic={'f':f,'fr':fr,'fl':fl,'r':r,'rl':rl,'rr':rr}\n",
    "    max_var=[var_name for var_name,value in dic.items() if value==max(f,r,fr,fl,rl,rr)]\n",
    "    return max_var[0]\n",
    "\n"
   ]
  },
  {
   "cell_type": "code",
   "execution_count": 13,
   "id": "cef39d77",
   "metadata": {},
   "outputs": [],
   "source": [
    "for i in range(3974):\n",
    "    ds['labels'][i]=converter(ds['labels'][i].split(','))\n"
   ]
  },
  {
   "cell_type": "code",
   "execution_count": 14,
   "id": "5f1157ef",
   "metadata": {},
   "outputs": [],
   "source": [
    "#img_random=cv2.imread(\"D:\\\\exercise1\\\\exercise_1\\\\629066b62be4ea4a1515d238\\\\scraped_kHiD0r_1653455611535.jpeg\")\n",
    "#plt.imshow(cv2.cvtColor(img_random,cv2.COLOR_BGR2RGB))"
   ]
  },
  {
   "cell_type": "code",
   "execution_count": 15,
   "id": "da9e1a69",
   "metadata": {},
   "outputs": [
    {
     "data": {
      "text/plain": [
       "\"import pandas as pd\\nfrom sklearn.preprocessing import LabelEncoder\\n\\nencoder = LabelEncoder()\\n\\nds['Encoded_Category'] = encoder.fit_transform(ds['labels'])\\n\""
      ]
     },
     "execution_count": 15,
     "metadata": {},
     "output_type": "execute_result"
    }
   ],
   "source": [
    "categories = ds['labels'].unique()\n",
    "category_to_one_hot = {category: np.eye(len(categories))[i] for i, category in enumerate(categories)}\n",
    "def one_hot_encode(category):\n",
    "    return category_to_one_hot[category]\n",
    "\n",
    "ds['one_hot_vector'] = ds['labels'].apply(one_hot_encode)\n",
    "\n",
    "'''import pandas as pd\n",
    "from sklearn.preprocessing import LabelEncoder\n",
    "\n",
    "encoder = LabelEncoder()\n",
    "\n",
    "ds['Encoded_Category'] = encoder.fit_transform(ds['labels'])\n",
    "'''\n",
    "\n"
   ]
  },
  {
   "cell_type": "code",
   "execution_count": null,
   "id": "09c92b0d",
   "metadata": {},
   "outputs": [],
   "source": []
  },
  {
   "cell_type": "code",
   "execution_count": null,
   "id": "97668f1f",
   "metadata": {},
   "outputs": [],
   "source": []
  },
  {
   "cell_type": "code",
   "execution_count": null,
   "id": "c16ad384",
   "metadata": {},
   "outputs": [],
   "source": []
  },
  {
   "cell_type": "code",
   "execution_count": 43,
   "id": "a559c0df",
   "metadata": {},
   "outputs": [
    {
     "data": {
      "text/html": [
       "<div>\n",
       "<style scoped>\n",
       "    .dataframe tbody tr th:only-of-type {\n",
       "        vertical-align: middle;\n",
       "    }\n",
       "\n",
       "    .dataframe tbody tr th {\n",
       "        vertical-align: top;\n",
       "    }\n",
       "\n",
       "    .dataframe thead th {\n",
       "        text-align: right;\n",
       "    }\n",
       "</style>\n",
       "<table border=\"1\" class=\"dataframe\">\n",
       "  <thead>\n",
       "    <tr style=\"text-align: right;\">\n",
       "      <th></th>\n",
       "      <th>directory_name</th>\n",
       "      <th>image_name</th>\n",
       "      <th>labels</th>\n",
       "      <th>one_hot_vector</th>\n",
       "    </tr>\n",
       "  </thead>\n",
       "  <tbody>\n",
       "    <tr>\n",
       "      <th>0</th>\n",
       "      <td>5e9112c35026365e15eb871b</td>\n",
       "      <td>IMG_20200219_170506_1586530497634.jpeg</td>\n",
       "      <td>f</td>\n",
       "      <td>[1.0, 0.0, 0.0, 0.0, 0.0, 0.0]</td>\n",
       "    </tr>\n",
       "    <tr>\n",
       "      <th>1</th>\n",
       "      <td>5e9112c35026365e15eb871b</td>\n",
       "      <td>IMG_20200219_170530_1586530511170_blurred.jpeg</td>\n",
       "      <td>f</td>\n",
       "      <td>[1.0, 0.0, 0.0, 0.0, 0.0, 0.0]</td>\n",
       "    </tr>\n",
       "    <tr>\n",
       "      <th>2</th>\n",
       "      <td>5e9112c35026365e15eb871b</td>\n",
       "      <td>IMG_20200219_170547_1586530520210_blurred.jpeg</td>\n",
       "      <td>r</td>\n",
       "      <td>[0.0, 1.0, 0.0, 0.0, 0.0, 0.0]</td>\n",
       "    </tr>\n",
       "    <tr>\n",
       "      <th>3</th>\n",
       "      <td>5e9112c35026365e15eb871b</td>\n",
       "      <td>IMG_20200219_170542_1586530514683_blurred.jpeg</td>\n",
       "      <td>r</td>\n",
       "      <td>[0.0, 1.0, 0.0, 0.0, 0.0, 0.0]</td>\n",
       "    </tr>\n",
       "    <tr>\n",
       "      <th>4</th>\n",
       "      <td>5e9112c35026365e15eb871b</td>\n",
       "      <td>IMG_20200219_170520_1586530505664.jpeg</td>\n",
       "      <td>f</td>\n",
       "      <td>[1.0, 0.0, 0.0, 0.0, 0.0, 0.0]</td>\n",
       "    </tr>\n",
       "    <tr>\n",
       "      <th>5</th>\n",
       "      <td>5e9112c35026365e15eb871b</td>\n",
       "      <td>IMG_20200219_170951_1586530530809.jpeg</td>\n",
       "      <td>f</td>\n",
       "      <td>[1.0, 0.0, 0.0, 0.0, 0.0, 0.0]</td>\n",
       "    </tr>\n",
       "    <tr>\n",
       "      <th>6</th>\n",
       "      <td>5e9112c35026365e15eb871b</td>\n",
       "      <td>IMG_20200219_170521_1586530506626.jpeg</td>\n",
       "      <td>f</td>\n",
       "      <td>[1.0, 0.0, 0.0, 0.0, 0.0, 0.0]</td>\n",
       "    </tr>\n",
       "    <tr>\n",
       "      <th>7</th>\n",
       "      <td>5e9112c35026365e15eb871b</td>\n",
       "      <td>IMG_20200219_173140_1586530649835.jpeg</td>\n",
       "      <td>fr</td>\n",
       "      <td>[0.0, 0.0, 1.0, 0.0, 0.0, 0.0]</td>\n",
       "    </tr>\n",
       "    <tr>\n",
       "      <th>8</th>\n",
       "      <td>5e9112c35026365e15eb871b</td>\n",
       "      <td>IMG_20200219_171037_1586530549887.jpeg</td>\n",
       "      <td>f</td>\n",
       "      <td>[1.0, 0.0, 0.0, 0.0, 0.0, 0.0]</td>\n",
       "    </tr>\n",
       "    <tr>\n",
       "      <th>9</th>\n",
       "      <td>5e9112c35026365e15eb871b</td>\n",
       "      <td>IMG_20200219_171058_1586530559033.jpeg</td>\n",
       "      <td>rr</td>\n",
       "      <td>[0.0, 0.0, 0.0, 1.0, 0.0, 0.0]</td>\n",
       "    </tr>\n",
       "    <tr>\n",
       "      <th>10</th>\n",
       "      <td>5e9112c35026365e15eb871b</td>\n",
       "      <td>IMG_20200219_171104_1586530562798.jpeg</td>\n",
       "      <td>fr</td>\n",
       "      <td>[0.0, 0.0, 1.0, 0.0, 0.0, 0.0]</td>\n",
       "    </tr>\n",
       "    <tr>\n",
       "      <th>11</th>\n",
       "      <td>5e9112c35026365e15eb871b</td>\n",
       "      <td>IMG_20200219_170545_1586530518489_blurred.jpeg</td>\n",
       "      <td>r</td>\n",
       "      <td>[0.0, 1.0, 0.0, 0.0, 0.0, 0.0]</td>\n",
       "    </tr>\n",
       "    <tr>\n",
       "      <th>12</th>\n",
       "      <td>5e9112c35026365e15eb871b</td>\n",
       "      <td>IMG_20200219_170504_1586530496661.jpeg</td>\n",
       "      <td>f</td>\n",
       "      <td>[1.0, 0.0, 0.0, 0.0, 0.0, 0.0]</td>\n",
       "    </tr>\n",
       "    <tr>\n",
       "      <th>13</th>\n",
       "      <td>5e9112c35026365e15eb871b</td>\n",
       "      <td>IMG_20200219_172907_1586530596298.jpeg</td>\n",
       "      <td>rl</td>\n",
       "      <td>[0.0, 0.0, 0.0, 0.0, 1.0, 0.0]</td>\n",
       "    </tr>\n",
       "    <tr>\n",
       "      <th>14</th>\n",
       "      <td>5e9112c35026365e15eb871b</td>\n",
       "      <td>IMG_20200219_171103_1586530562303.jpeg</td>\n",
       "      <td>fr</td>\n",
       "      <td>[0.0, 0.0, 1.0, 0.0, 0.0, 0.0]</td>\n",
       "    </tr>\n",
       "    <tr>\n",
       "      <th>15</th>\n",
       "      <td>5e9112c35026365e15eb871b</td>\n",
       "      <td>IMG_20200219_171100_1586530561678.jpeg</td>\n",
       "      <td>fr</td>\n",
       "      <td>[0.0, 0.0, 1.0, 0.0, 0.0, 0.0]</td>\n",
       "    </tr>\n",
       "    <tr>\n",
       "      <th>16</th>\n",
       "      <td>5e9112c35026365e15eb871b</td>\n",
       "      <td>IMG_20200219_170543_1586530515687_blurred.jpeg</td>\n",
       "      <td>r</td>\n",
       "      <td>[0.0, 1.0, 0.0, 0.0, 0.0, 0.0]</td>\n",
       "    </tr>\n",
       "    <tr>\n",
       "      <th>17</th>\n",
       "      <td>5e9112c35026365e15eb871b</td>\n",
       "      <td>IMG_20200219_172236_1586530573443.jpeg</td>\n",
       "      <td>fr</td>\n",
       "      <td>[0.0, 0.0, 1.0, 0.0, 0.0, 0.0]</td>\n",
       "    </tr>\n",
       "    <tr>\n",
       "      <th>18</th>\n",
       "      <td>5e9112c35026365e15eb871b</td>\n",
       "      <td>IMG_20200219_170612_1586530527555.jpeg</td>\n",
       "      <td>fr</td>\n",
       "      <td>[0.0, 0.0, 1.0, 0.0, 0.0, 0.0]</td>\n",
       "    </tr>\n",
       "    <tr>\n",
       "      <th>19</th>\n",
       "      <td>5e9112c35026365e15eb871b</td>\n",
       "      <td>IMG_20200219_170517_1586530502842_blurred.jpeg</td>\n",
       "      <td>f</td>\n",
       "      <td>[1.0, 0.0, 0.0, 0.0, 0.0, 0.0]</td>\n",
       "    </tr>\n",
       "  </tbody>\n",
       "</table>\n",
       "</div>"
      ],
      "text/plain": [
       "              directory_name                                      image_name  \\\n",
       "0   5e9112c35026365e15eb871b          IMG_20200219_170506_1586530497634.jpeg   \n",
       "1   5e9112c35026365e15eb871b  IMG_20200219_170530_1586530511170_blurred.jpeg   \n",
       "2   5e9112c35026365e15eb871b  IMG_20200219_170547_1586530520210_blurred.jpeg   \n",
       "3   5e9112c35026365e15eb871b  IMG_20200219_170542_1586530514683_blurred.jpeg   \n",
       "4   5e9112c35026365e15eb871b          IMG_20200219_170520_1586530505664.jpeg   \n",
       "5   5e9112c35026365e15eb871b          IMG_20200219_170951_1586530530809.jpeg   \n",
       "6   5e9112c35026365e15eb871b          IMG_20200219_170521_1586530506626.jpeg   \n",
       "7   5e9112c35026365e15eb871b          IMG_20200219_173140_1586530649835.jpeg   \n",
       "8   5e9112c35026365e15eb871b          IMG_20200219_171037_1586530549887.jpeg   \n",
       "9   5e9112c35026365e15eb871b          IMG_20200219_171058_1586530559033.jpeg   \n",
       "10  5e9112c35026365e15eb871b          IMG_20200219_171104_1586530562798.jpeg   \n",
       "11  5e9112c35026365e15eb871b  IMG_20200219_170545_1586530518489_blurred.jpeg   \n",
       "12  5e9112c35026365e15eb871b          IMG_20200219_170504_1586530496661.jpeg   \n",
       "13  5e9112c35026365e15eb871b          IMG_20200219_172907_1586530596298.jpeg   \n",
       "14  5e9112c35026365e15eb871b          IMG_20200219_171103_1586530562303.jpeg   \n",
       "15  5e9112c35026365e15eb871b          IMG_20200219_171100_1586530561678.jpeg   \n",
       "16  5e9112c35026365e15eb871b  IMG_20200219_170543_1586530515687_blurred.jpeg   \n",
       "17  5e9112c35026365e15eb871b          IMG_20200219_172236_1586530573443.jpeg   \n",
       "18  5e9112c35026365e15eb871b          IMG_20200219_170612_1586530527555.jpeg   \n",
       "19  5e9112c35026365e15eb871b  IMG_20200219_170517_1586530502842_blurred.jpeg   \n",
       "\n",
       "   labels                  one_hot_vector  \n",
       "0       f  [1.0, 0.0, 0.0, 0.0, 0.0, 0.0]  \n",
       "1       f  [1.0, 0.0, 0.0, 0.0, 0.0, 0.0]  \n",
       "2       r  [0.0, 1.0, 0.0, 0.0, 0.0, 0.0]  \n",
       "3       r  [0.0, 1.0, 0.0, 0.0, 0.0, 0.0]  \n",
       "4       f  [1.0, 0.0, 0.0, 0.0, 0.0, 0.0]  \n",
       "5       f  [1.0, 0.0, 0.0, 0.0, 0.0, 0.0]  \n",
       "6       f  [1.0, 0.0, 0.0, 0.0, 0.0, 0.0]  \n",
       "7      fr  [0.0, 0.0, 1.0, 0.0, 0.0, 0.0]  \n",
       "8       f  [1.0, 0.0, 0.0, 0.0, 0.0, 0.0]  \n",
       "9      rr  [0.0, 0.0, 0.0, 1.0, 0.0, 0.0]  \n",
       "10     fr  [0.0, 0.0, 1.0, 0.0, 0.0, 0.0]  \n",
       "11      r  [0.0, 1.0, 0.0, 0.0, 0.0, 0.0]  \n",
       "12      f  [1.0, 0.0, 0.0, 0.0, 0.0, 0.0]  \n",
       "13     rl  [0.0, 0.0, 0.0, 0.0, 1.0, 0.0]  \n",
       "14     fr  [0.0, 0.0, 1.0, 0.0, 0.0, 0.0]  \n",
       "15     fr  [0.0, 0.0, 1.0, 0.0, 0.0, 0.0]  \n",
       "16      r  [0.0, 1.0, 0.0, 0.0, 0.0, 0.0]  \n",
       "17     fr  [0.0, 0.0, 1.0, 0.0, 0.0, 0.0]  \n",
       "18     fr  [0.0, 0.0, 1.0, 0.0, 0.0, 0.0]  \n",
       "19      f  [1.0, 0.0, 0.0, 0.0, 0.0, 0.0]  "
      ]
     },
     "execution_count": 43,
     "metadata": {},
     "output_type": "execute_result"
    }
   ],
   "source": [
    "ds.head(20)"
   ]
  },
  {
   "cell_type": "code",
   "execution_count": 17,
   "id": "d49472cb",
   "metadata": {},
   "outputs": [],
   "source": [
    "test=ds.iloc[-20:].copy()\n",
    "ds=ds.iloc[:-20]\n"
   ]
  },
  {
   "cell_type": "code",
   "execution_count": 18,
   "id": "6e360eff",
   "metadata": {},
   "outputs": [
    {
     "data": {
      "text/html": [
       "<div>\n",
       "<style scoped>\n",
       "    .dataframe tbody tr th:only-of-type {\n",
       "        vertical-align: middle;\n",
       "    }\n",
       "\n",
       "    .dataframe tbody tr th {\n",
       "        vertical-align: top;\n",
       "    }\n",
       "\n",
       "    .dataframe thead th {\n",
       "        text-align: right;\n",
       "    }\n",
       "</style>\n",
       "<table border=\"1\" class=\"dataframe\">\n",
       "  <thead>\n",
       "    <tr style=\"text-align: right;\">\n",
       "      <th></th>\n",
       "      <th>directory_name</th>\n",
       "      <th>image_name</th>\n",
       "      <th>labels</th>\n",
       "      <th>one_hot_vector</th>\n",
       "    </tr>\n",
       "  </thead>\n",
       "  <tbody>\n",
       "    <tr>\n",
       "      <th>3954</th>\n",
       "      <td>629066b62be4ea4a1515d238</td>\n",
       "      <td>scraped_GEO2hd_1653455573734.jpg</td>\n",
       "      <td>r</td>\n",
       "      <td>[0.0, 1.0, 0.0, 0.0, 0.0, 0.0]</td>\n",
       "    </tr>\n",
       "    <tr>\n",
       "      <th>3955</th>\n",
       "      <td>629066b62be4ea4a1515d238</td>\n",
       "      <td>scraped_0Cc6x0_1653455575897.jpg</td>\n",
       "      <td>r</td>\n",
       "      <td>[0.0, 1.0, 0.0, 0.0, 0.0, 0.0]</td>\n",
       "    </tr>\n",
       "    <tr>\n",
       "      <th>3956</th>\n",
       "      <td>629066b62be4ea4a1515d238</td>\n",
       "      <td>scraped_kqdH6D_1653455578261.jpg</td>\n",
       "      <td>r</td>\n",
       "      <td>[0.0, 1.0, 0.0, 0.0, 0.0, 0.0]</td>\n",
       "    </tr>\n",
       "    <tr>\n",
       "      <th>3957</th>\n",
       "      <td>629066b62be4ea4a1515d238</td>\n",
       "      <td>scraped_8kfvLy_1653455580774.jpg</td>\n",
       "      <td>r</td>\n",
       "      <td>[0.0, 1.0, 0.0, 0.0, 0.0, 0.0]</td>\n",
       "    </tr>\n",
       "    <tr>\n",
       "      <th>3958</th>\n",
       "      <td>629066b62be4ea4a1515d238</td>\n",
       "      <td>scraped_uzrejs_1653455582980.jpg</td>\n",
       "      <td>fr</td>\n",
       "      <td>[0.0, 0.0, 1.0, 0.0, 0.0, 0.0]</td>\n",
       "    </tr>\n",
       "  </tbody>\n",
       "</table>\n",
       "</div>"
      ],
      "text/plain": [
       "                directory_name                        image_name labels  \\\n",
       "3954  629066b62be4ea4a1515d238  scraped_GEO2hd_1653455573734.jpg      r   \n",
       "3955  629066b62be4ea4a1515d238  scraped_0Cc6x0_1653455575897.jpg      r   \n",
       "3956  629066b62be4ea4a1515d238  scraped_kqdH6D_1653455578261.jpg      r   \n",
       "3957  629066b62be4ea4a1515d238  scraped_8kfvLy_1653455580774.jpg      r   \n",
       "3958  629066b62be4ea4a1515d238  scraped_uzrejs_1653455582980.jpg     fr   \n",
       "\n",
       "                      one_hot_vector  \n",
       "3954  [0.0, 1.0, 0.0, 0.0, 0.0, 0.0]  \n",
       "3955  [0.0, 1.0, 0.0, 0.0, 0.0, 0.0]  \n",
       "3956  [0.0, 1.0, 0.0, 0.0, 0.0, 0.0]  \n",
       "3957  [0.0, 1.0, 0.0, 0.0, 0.0, 0.0]  \n",
       "3958  [0.0, 0.0, 1.0, 0.0, 0.0, 0.0]  "
      ]
     },
     "execution_count": 18,
     "metadata": {},
     "output_type": "execute_result"
    }
   ],
   "source": [
    "test.head()"
   ]
  },
  {
   "cell_type": "code",
   "execution_count": 19,
   "id": "7a4678bb",
   "metadata": {},
   "outputs": [],
   "source": [
    "class CustomDataset(Dataset):\n",
    "    def __init__(self, root_dir, dataframe, transform=None):\n",
    "        self.root_dir = root_dir\n",
    "        self.dataframe = dataframe\n",
    "        self.transform = transform\n",
    "\n",
    "    def __len__(self):\n",
    "        return len(self.dataframe)\n",
    "\n",
    "    def __getitem__(self, idx):\n",
    "        img_name = os.path.join(self.root_dir, self.dataframe.iloc[idx, 0], self.dataframe.iloc[idx, 1])\n",
    "        image = Image.open(img_name)\n",
    "        label = self.dataframe.iloc[idx, 3]\n",
    "        \n",
    "        if self.transform:\n",
    "            image = self.transform(image)\n",
    "        \n",
    "        return image, label"
   ]
  },
  {
   "cell_type": "code",
   "execution_count": 20,
   "id": "283637bb",
   "metadata": {},
   "outputs": [],
   "source": [
    "transform = transforms.Compose([\n",
    "    transforms.Resize((224, 224)),  # Resize the image to a fixed size\n",
    "    transforms.ToTensor(),           # Convert the image to a PyTorch tensor\n",
    "    transforms.Normalize(mean=[0.485, 0.456, 0.406], std=[0.229, 0.224, 0.225]),  # Normalize the image\n",
    "])"
   ]
  },
  {
   "cell_type": "code",
   "execution_count": 21,
   "id": "71ab67c4",
   "metadata": {},
   "outputs": [],
   "source": [
    "dataset = CustomDataset(root_dir=data_dir, dataframe=ds, transform=transform)\n",
    "batch_size = 32\n",
    "dataloader = DataLoader(dataset, batch_size=batch_size, shuffle=True)"
   ]
  },
  {
   "cell_type": "code",
   "execution_count": 22,
   "id": "002aefd8",
   "metadata": {},
   "outputs": [],
   "source": [
    "device=torch.device('cuda' if torch.cuda.is_available() else 'cpu')"
   ]
  },
  {
   "cell_type": "code",
   "execution_count": 23,
   "id": "512a1891",
   "metadata": {},
   "outputs": [
    {
     "data": {
      "text/plain": [
       "device(type='cuda')"
      ]
     },
     "execution_count": 23,
     "metadata": {},
     "output_type": "execute_result"
    }
   ],
   "source": [
    "device"
   ]
  },
  {
   "cell_type": "code",
   "execution_count": 9,
   "id": "c7bb0b21",
   "metadata": {},
   "outputs": [],
   "source": [
    "import torch.nn as nn"
   ]
  },
  {
   "cell_type": "code",
   "execution_count": 11,
   "id": "651dee9e",
   "metadata": {},
   "outputs": [],
   "source": [
    "class convnet(nn.Module):\n",
    "    def __init__(self,num_classes=6):\n",
    "        super(convnet,self).__init__()\n",
    "        \n",
    "        #(32,3,224,224)\n",
    "        self.conv1=nn.Conv2d(3,12,kernel_size=3,stride=1,padding=1)\n",
    "        #(32,12,224,224)\n",
    "        self.bn1=nn.BatchNorm2d(num_features=12)\n",
    "        #(32,12,224,224)\n",
    "        self.relu1=nn.ReLU()\n",
    "        self.pool1=nn.MaxPool2d(kernel_size=2)\n",
    "        #(32,12,112,112)\n",
    "        \n",
    "        self.conv2=nn.Conv2d(12,20,kernel_size=3,stride=1,padding=1)\n",
    "        #(32,20,112,112)\n",
    "        self.relu2=nn.ReLU()\n",
    "        \n",
    "        \n",
    "        self.conv3=nn.Conv2d(20,32,kernel_size=3,stride=1,padding=1)\n",
    "        #(32,32,112,112)\n",
    "        self.bn3=nn.BatchNorm2d(num_features=32)\n",
    "        \n",
    "        self.relu3=nn.ReLU()\n",
    "        #(32,32,112,112)\n",
    "        \n",
    "        self.fc1=nn.Linear(32*112*112,6)\n",
    "        #self.relu4=nn.ReLU()\n",
    "        #self.fc2=nn.Linear(64,6)\n",
    "        \n",
    "    def forward(self,x):\n",
    "        x=self.conv1(x)\n",
    "        x=self.bn1(x)\n",
    "        x=self.relu1(x)\n",
    "        x=self.pool1(x)\n",
    "        \n",
    "        \n",
    "        x=self.conv2(x)\n",
    "        x=self.relu2(x)\n",
    "        \n",
    "        x=self.conv3(x)\n",
    "        x=self.bn3(x)\n",
    "        x=self.relu3(x)\n",
    "        \n",
    "        x=x.view(-1,32*112*112)\n",
    "        \n",
    "        x=self.fc1(x)\n",
    "        #x=self.relu4(x)\n",
    "        #x=self.fc2(x)\n",
    "        \n",
    "        \n",
    "        return x"
   ]
  },
  {
   "cell_type": "code",
   "execution_count": 26,
   "id": "18a0e0b7",
   "metadata": {},
   "outputs": [],
   "source": [
    "model=convnet(num_classes=6).to(device)"
   ]
  },
  {
   "cell_type": "code",
   "execution_count": null,
   "id": "b98d470d",
   "metadata": {},
   "outputs": [],
   "source": []
  },
  {
   "cell_type": "code",
   "execution_count": 27,
   "id": "b0a110e9",
   "metadata": {},
   "outputs": [],
   "source": [
    "import torchvision\n",
    "from torch.optim import Adam\n",
    "from torch.autograd import Variable"
   ]
  },
  {
   "cell_type": "code",
   "execution_count": null,
   "id": "23e309a6",
   "metadata": {},
   "outputs": [],
   "source": []
  },
  {
   "cell_type": "code",
   "execution_count": 28,
   "id": "26908cdc",
   "metadata": {},
   "outputs": [],
   "source": [
    "optimizer=Adam(model.parameters(),lr=0.001,weight_decay=0.0001)\n",
    "loss_function=nn.CrossEntropyLoss()"
   ]
  },
  {
   "cell_type": "code",
   "execution_count": 29,
   "id": "33115c17",
   "metadata": {},
   "outputs": [],
   "source": [
    "num_epochs=25"
   ]
  },
  {
   "cell_type": "code",
   "execution_count": 30,
   "id": "6f2eff32",
   "metadata": {},
   "outputs": [],
   "source": [
    "#peach=os.path.join(data_dir,ds['directory_name'][0],ds['image_name'][0])\n",
    "#apple=Image.open(peach)\n",
    "\n",
    "#apple=transform(apple)\n",
    "\n",
    "#apple=Variable(apple.cuda())\n",
    "#apple=apple.unsqueeze(0)\n",
    "#apple_out=model(apple)\n",
    "\n",
    "#apple_out\n",
    "#torch.max(apple_out,1)"
   ]
  },
  {
   "cell_type": "code",
   "execution_count": 31,
   "id": "104e77bd",
   "metadata": {},
   "outputs": [
    {
     "data": {
      "text/plain": [
       "124"
      ]
     },
     "execution_count": 31,
     "metadata": {},
     "output_type": "execute_result"
    }
   ],
   "source": [
    "len(dataloader)"
   ]
  },
  {
   "cell_type": "code",
   "execution_count": null,
   "id": "f05d154c",
   "metadata": {},
   "outputs": [],
   "source": []
  },
  {
   "cell_type": "code",
   "execution_count": 32,
   "id": "3ed2def8",
   "metadata": {
    "scrolled": false
   },
   "outputs": [
    {
     "name": "stderr",
     "output_type": "stream",
     "text": [
      "C:\\Users\\Prakhar\\AppData\\Local\\Temp\\ipykernel_27080\\839927308.py:11: UserWarning: To copy construct from a tensor, it is recommended to use sourceTensor.clone().detach() or sourceTensor.clone().detach().requires_grad_(True), rather than torch.tensor(sourceTensor).\n",
      "  labels=torch.tensor(labels)\n"
     ]
    },
    {
     "name": "stdout",
     "output_type": "stream",
     "text": [
      "epoch :0 ,  batch_loss : 20.00967\n",
      "epoch :1 ,  batch_loss : 0.97717\n",
      "epoch :2 ,  batch_loss : 0.16328\n",
      "epoch :3 ,  batch_loss : 0.07716\n",
      "epoch :4 ,  batch_loss : 0.04878\n",
      "epoch :5 ,  batch_loss : 0.03036\n",
      "epoch :6 ,  batch_loss : 0.05123\n",
      "epoch :7 ,  batch_loss : 0.02156\n",
      "epoch :8 ,  batch_loss : 0.02219\n",
      "epoch :9 ,  batch_loss : 0.05654\n",
      "epoch :10 ,  batch_loss : 0.06395\n",
      "epoch :11 ,  batch_loss : 0.06335\n",
      "epoch :12 ,  batch_loss : 0.17324\n",
      "epoch :13 ,  batch_loss : 0.24599\n",
      "epoch :14 ,  batch_loss : 0.22119\n",
      "epoch :15 ,  batch_loss : 0.08261\n",
      "epoch :16 ,  batch_loss : 0.03676\n",
      "epoch :17 ,  batch_loss : 0.03245\n",
      "epoch :18 ,  batch_loss : 0.03515\n",
      "epoch :19 ,  batch_loss : 0.03555\n",
      "epoch :20 ,  batch_loss : 0.02916\n",
      "epoch :21 ,  batch_loss : 0.02136\n",
      "epoch :22 ,  batch_loss : 0.02228\n",
      "epoch :23 ,  batch_loss : 0.03829\n",
      "epoch :24 ,  batch_loss : 0.02367\n"
     ]
    }
   ],
   "source": [
    "\n",
    "best_accuracy=0\n",
    "for epoch in range(num_epochs):\n",
    "    \n",
    "    model.train()\n",
    "    \n",
    "    train_accuracy=0.0\n",
    "    train_loss=0.0\n",
    "    for i,(images,labels) in enumerate(dataloader):\n",
    "        if torch.cuda.is_available():\n",
    "            images=Variable(images.cuda())\n",
    "            labels=torch.tensor(labels)\n",
    "            labels=Variable(labels.cuda())\n",
    "            \n",
    "        optimizer.zero_grad()\n",
    "        \n",
    "        \n",
    "        outputs=model(images)\n",
    "        \n",
    "        loss=loss_function(outputs,labels)\n",
    "        #train_loss+=loss\n",
    "        optimizer.zero_grad()\n",
    "\n",
    "        loss.backward()\n",
    "        optimizer.step() \n",
    "           \n",
    "        train_loss+=loss.cpu().data*images.size(0)\n",
    "        #prediction=torch.max(outputs,1)\n",
    "        \n",
    "        #train_accuracy+=int(torch.sum(prediction==labels.data))\n",
    "        #print(train_accuracy)\n",
    "    \n",
    "    #train_accuracy=train_accuracy/train_count\n",
    "    train_loss=train_loss/3954\n",
    "    \n",
    "    print(f'epoch :{epoch} ,  batch_loss : {train_loss:.5f}')"
   ]
  },
  {
   "cell_type": "code",
   "execution_count": null,
   "id": "c1e69589",
   "metadata": {},
   "outputs": [],
   "source": []
  },
  {
   "cell_type": "code",
   "execution_count": 13,
   "id": "a4b73d22",
   "metadata": {},
   "outputs": [],
   "source": [
    "file=\"model.pth\""
   ]
  },
  {
   "cell_type": "code",
   "execution_count": 15,
   "id": "e8a8e38e",
   "metadata": {},
   "outputs": [],
   "source": [
    "#torch.save(model.state_dict(),file)"
   ]
  },
  {
   "cell_type": "code",
   "execution_count": 17,
   "id": "27b56af7",
   "metadata": {},
   "outputs": [],
   "source": [
    "#model_loaded= convnet(num_classes=6)"
   ]
  },
  {
   "cell_type": "code",
   "execution_count": 19,
   "id": "637bab51",
   "metadata": {},
   "outputs": [],
   "source": [
    "#model_loaded.load_state_dict(torch.load(file))"
   ]
  },
  {
   "cell_type": "code",
   "execution_count": 21,
   "id": "8800ffaf",
   "metadata": {},
   "outputs": [],
   "source": [
    "model_to_tflite=convnet()"
   ]
  },
  {
   "cell_type": "code",
   "execution_count": 23,
   "id": "38559d50",
   "metadata": {},
   "outputs": [
    {
     "data": {
      "text/plain": [
       "<All keys matched successfully>"
      ]
     },
     "execution_count": 23,
     "metadata": {},
     "output_type": "execute_result"
    }
   ],
   "source": [
    "model_to_tflite.load_state_dict(torch.load(file,map_location='cpu'))"
   ]
  },
  {
   "cell_type": "code",
   "execution_count": 25,
   "id": "eeda94ef",
   "metadata": {},
   "outputs": [],
   "source": [
    "sample_input=torch.rand(32,3,224,224)\n",
    "onnx_model_path='onnx_model.onnx'"
   ]
  },
  {
   "cell_type": "code",
   "execution_count": 27,
   "id": "2b27fae3",
   "metadata": {},
   "outputs": [],
   "source": [
    "torch.onnx.export(model_to_tflite,\n",
    "                  sample_input,\n",
    "                  onnx_model_path,\n",
    "                  opset_version=12,\n",
    "                  input_names=['input'],output_names=['output'])"
   ]
  },
  {
   "cell_type": "code",
   "execution_count": 28,
   "id": "464f1257",
   "metadata": {},
   "outputs": [
    {
     "data": {
      "text/plain": [
       "\"\\npip install onnxruntime\\nimport onnxruntime as ort\\nort_session = ort.InferenceSession('model.onnx')\\noutputs = ort_session.run(\\n    None,\\n    {'input': np.random.randn(batch_size, channels, height, width).astype(np.float32)}\\n)\\n\\n\""
      ]
     },
     "execution_count": 28,
     "metadata": {},
     "output_type": "execute_result"
    }
   ],
   "source": [
    "#loading the onnx model\n",
    "\n",
    "#model =onnx.load('onnx_model.onnx')\n",
    "#onnx.checker.check_model(model_to_tflite)\n",
    "#onnx.helper.printable_graph(model.graph)\n",
    "\n",
    "\n",
    "#onnx model inference\n",
    "'''\n",
    "pip install onnxruntime\n",
    "import onnxruntime as ort\n",
    "ort_session = ort.InferenceSession('model.onnx')\n",
    "outputs = ort_session.run(\n",
    "    None,\n",
    "    {'input': np.random.randn(batch_size, channels, height, width).astype(np.float32)}\n",
    ")\n",
    "\n",
    "'''"
   ]
  },
  {
   "cell_type": "code",
   "execution_count": 29,
   "id": "ba195708",
   "metadata": {},
   "outputs": [],
   "source": [
    "import onnx\n",
    "onnx_model=onnx.load(onnx_model_path)"
   ]
  },
  {
   "cell_type": "code",
   "execution_count": 30,
   "id": "ced77ee8",
   "metadata": {},
   "outputs": [
    {
     "name": "stderr",
     "output_type": "stream",
     "text": [
      "F:\\apple\\envs\\ENV1\\lib\\site-packages\\tensorflow_addons\\utils\\tfa_eol_msg.py:23: UserWarning: \n",
      "\n",
      "TensorFlow Addons (TFA) has ended development and introduction of new features.\n",
      "TFA has entered a minimal maintenance and release mode until a planned end of life in May 2024.\n",
      "Please modify downstream libraries to take dependencies from other repositories in our TensorFlow community (e.g. Keras, Keras-CV, and Keras-NLP). \n",
      "\n",
      "For more information see: https://github.com/tensorflow/addons/issues/2807 \n",
      "\n",
      "  warnings.warn(\n"
     ]
    }
   ],
   "source": [
    "from onnx_tf.backend import prepare\n",
    "tf_rep=prepare(onnx_model)"
   ]
  },
  {
   "cell_type": "code",
   "execution_count": 32,
   "id": "2d47e0a8",
   "metadata": {},
   "outputs": [],
   "source": [
    "tf_model_path='tf_model.keras'"
   ]
  },
  {
   "cell_type": "code",
   "execution_count": 33,
   "id": "68b5e6e5",
   "metadata": {
    "scrolled": true
   },
   "outputs": [
    {
     "name": "stdout",
     "output_type": "stream",
     "text": [
      "WARNING:tensorflow:From F:\\apple\\envs\\ENV1\\lib\\site-packages\\tensorflow\\python\\autograph\\pyct\\static_analysis\\liveness.py:83: Analyzer.lamba_check (from tensorflow.python.autograph.pyct.static_analysis.liveness) is deprecated and will be removed after 2023-09-23.\n",
      "Instructions for updating:\n",
      "Lambda fuctions will be no more assumed to be used in the statement where they are used, or at least in the same block. https://github.com/tensorflow/tensorflow/issues/56089\n"
     ]
    },
    {
     "name": "stderr",
     "output_type": "stream",
     "text": [
      "WARNING:absl:Found untraced functions such as gen_tensor_dict while saving (showing 1 of 1). These functions will not be directly callable after loading.\n"
     ]
    },
    {
     "name": "stdout",
     "output_type": "stream",
     "text": [
      "INFO:tensorflow:Assets written to: tf_model.keras\\assets\n"
     ]
    },
    {
     "name": "stderr",
     "output_type": "stream",
     "text": [
      "INFO:tensorflow:Assets written to: tf_model.keras\\assets\n"
     ]
    }
   ],
   "source": [
    "tf_rep.export_graph(tf_model_path)"
   ]
  },
  {
   "cell_type": "code",
   "execution_count": null,
   "id": "fb443ec3",
   "metadata": {},
   "outputs": [],
   "source": [
    "# tf model inference\n",
    "\n",
    "'''\n",
    "import tensorflow as tf\n",
    "\n",
    "model = tf.saved_model.load(tf_model_path)\n",
    "model.trainable = False\n",
    "\n",
    "input_tensor = tf.random.uniform([batch_size, channels, height, width])\n",
    "out = model(**{'input': input_tensor})\n",
    "'''"
   ]
  },
  {
   "cell_type": "code",
   "execution_count": 35,
   "id": "13b51546",
   "metadata": {},
   "outputs": [],
   "source": [
    "import tensorflow as tf"
   ]
  },
  {
   "cell_type": "code",
   "execution_count": 36,
   "id": "063e0940",
   "metadata": {},
   "outputs": [],
   "source": [
    "converter=tf.lite.TFLiteConverter.from_saved_model(tf_model_path)\n",
    "tflite_model=converter.convert()"
   ]
  },
  {
   "cell_type": "code",
   "execution_count": 37,
   "id": "a65aa919",
   "metadata": {},
   "outputs": [],
   "source": [
    "tflite_model_path='tflite_model.tflite'"
   ]
  },
  {
   "cell_type": "code",
   "execution_count": 38,
   "id": "7a87a73b",
   "metadata": {},
   "outputs": [],
   "source": [
    "with open(tflite_model_path,'wb') as f:\n",
    "    f.write(tflite_model)"
   ]
  },
  {
   "cell_type": "code",
   "execution_count": null,
   "id": "fc51a1e7",
   "metadata": {},
   "outputs": [],
   "source": [
    "#tflite model inference\n",
    "'''\n",
    "import numpy as np\n",
    "import tensorflow as tf\n",
    "\n",
    "# Load the TFLite model and allocate tensors\n",
    "interpreter = tf.lite.Interpreter(model_path=\"converted_model.tflite\")\n",
    "interpreter.allocate_tensors()\n",
    "\n",
    "# Get input and output tensors\n",
    "input_details = interpreter.get_input_details()\n",
    "output_details = interpreter.get_output_details()\n",
    "\n",
    "# Test the model on random input data\n",
    "input_shape = input_details[0]['shape']\n",
    "input_data = np.array(np.random.random_sample(input_shape), dtype=np.float32)\n",
    "interpreter.set_tensor(input_details[0]['index'], input_data)\n",
    "\n",
    "interpreter.invoke()\n",
    "\n",
    "# get_tensor() returns a copy of the tensor data\n",
    "# use tensor() in order to get a pointer to the tensor\n",
    "output_data = interpreter.get_tensor(output_details[0]['index'])\n",
    "print(output_data)\n",
    "\n",
    "'''"
   ]
  }
 ],
 "metadata": {
  "kernelspec": {
   "display_name": "Python 3 (ipykernel)",
   "language": "python",
   "name": "python3"
  },
  "language_info": {
   "codemirror_mode": {
    "name": "ipython",
    "version": 3
   },
   "file_extension": ".py",
   "mimetype": "text/x-python",
   "name": "python",
   "nbconvert_exporter": "python",
   "pygments_lexer": "ipython3",
   "version": "3.10.9"
  }
 },
 "nbformat": 4,
 "nbformat_minor": 5
}
